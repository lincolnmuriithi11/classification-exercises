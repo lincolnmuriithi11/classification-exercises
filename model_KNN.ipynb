{
 "cells": [
  {
   "cell_type": "markdown",
   "id": "383cd416",
   "metadata": {},
   "source": [
    "Fit a K-Nearest Neighbors classifier to your training sample and transform (i.e. make predictions on the training sample)\n",
    "\n",
    "Evaluate your results using the model score, confusion matrix, and classification report.\n",
    "\n",
    "Print and clearly label the following: Accuracy, true positive rate, false positive rate, true negative rate, false negative rate, precision, recall, f1-score, and support.\n",
    "\n",
    "Run through steps 2-4 setting k to 10\n",
    "\n",
    "Run through setps 2-4 setting k to 20\n",
    "\n",
    "What are the differences in the evaluation metrics? Which performs better on your in-sample data? Why?\n",
    "\n",
    "Which model performs best on our out-of-sample data from validate?"
   ]
  },
  {
   "cell_type": "code",
   "execution_count": 1,
   "id": "ca8382d0",
   "metadata": {
    "scrolled": true
   },
   "outputs": [
    {
     "data": {
      "text/html": [
       "<div>\n",
       "<style scoped>\n",
       "    .dataframe tbody tr th:only-of-type {\n",
       "        vertical-align: middle;\n",
       "    }\n",
       "\n",
       "    .dataframe tbody tr th {\n",
       "        vertical-align: top;\n",
       "    }\n",
       "\n",
       "    .dataframe thead th {\n",
       "        text-align: right;\n",
       "    }\n",
       "</style>\n",
       "<table border=\"1\" class=\"dataframe\">\n",
       "  <thead>\n",
       "    <tr style=\"text-align: right;\">\n",
       "      <th></th>\n",
       "      <th>survived</th>\n",
       "      <th>pclass</th>\n",
       "      <th>age</th>\n",
       "      <th>sibsp</th>\n",
       "      <th>parch</th>\n",
       "      <th>fare</th>\n",
       "      <th>alone</th>\n",
       "      <th>sex_male</th>\n",
       "      <th>embark_town_Queenstown</th>\n",
       "      <th>embark_town_Southampton</th>\n",
       "    </tr>\n",
       "  </thead>\n",
       "  <tbody>\n",
       "    <tr>\n",
       "      <th>191</th>\n",
       "      <td>0</td>\n",
       "      <td>2</td>\n",
       "      <td>19.0</td>\n",
       "      <td>0</td>\n",
       "      <td>0</td>\n",
       "      <td>13.0000</td>\n",
       "      <td>1</td>\n",
       "      <td>1</td>\n",
       "      <td>0</td>\n",
       "      <td>1</td>\n",
       "    </tr>\n",
       "    <tr>\n",
       "      <th>565</th>\n",
       "      <td>0</td>\n",
       "      <td>3</td>\n",
       "      <td>24.0</td>\n",
       "      <td>2</td>\n",
       "      <td>0</td>\n",
       "      <td>24.1500</td>\n",
       "      <td>0</td>\n",
       "      <td>1</td>\n",
       "      <td>0</td>\n",
       "      <td>1</td>\n",
       "    </tr>\n",
       "    <tr>\n",
       "      <th>659</th>\n",
       "      <td>0</td>\n",
       "      <td>1</td>\n",
       "      <td>58.0</td>\n",
       "      <td>0</td>\n",
       "      <td>2</td>\n",
       "      <td>113.2750</td>\n",
       "      <td>0</td>\n",
       "      <td>1</td>\n",
       "      <td>0</td>\n",
       "      <td>0</td>\n",
       "    </tr>\n",
       "    <tr>\n",
       "      <th>492</th>\n",
       "      <td>0</td>\n",
       "      <td>1</td>\n",
       "      <td>55.0</td>\n",
       "      <td>0</td>\n",
       "      <td>0</td>\n",
       "      <td>30.5000</td>\n",
       "      <td>1</td>\n",
       "      <td>1</td>\n",
       "      <td>0</td>\n",
       "      <td>1</td>\n",
       "    </tr>\n",
       "    <tr>\n",
       "      <th>115</th>\n",
       "      <td>0</td>\n",
       "      <td>3</td>\n",
       "      <td>21.0</td>\n",
       "      <td>0</td>\n",
       "      <td>0</td>\n",
       "      <td>7.9250</td>\n",
       "      <td>1</td>\n",
       "      <td>1</td>\n",
       "      <td>0</td>\n",
       "      <td>1</td>\n",
       "    </tr>\n",
       "    <tr>\n",
       "      <th>479</th>\n",
       "      <td>1</td>\n",
       "      <td>3</td>\n",
       "      <td>2.0</td>\n",
       "      <td>0</td>\n",
       "      <td>1</td>\n",
       "      <td>12.2875</td>\n",
       "      <td>0</td>\n",
       "      <td>0</td>\n",
       "      <td>0</td>\n",
       "      <td>1</td>\n",
       "    </tr>\n",
       "    <tr>\n",
       "      <th>192</th>\n",
       "      <td>1</td>\n",
       "      <td>3</td>\n",
       "      <td>19.0</td>\n",
       "      <td>1</td>\n",
       "      <td>0</td>\n",
       "      <td>7.8542</td>\n",
       "      <td>0</td>\n",
       "      <td>0</td>\n",
       "      <td>0</td>\n",
       "      <td>1</td>\n",
       "    </tr>\n",
       "    <tr>\n",
       "      <th>460</th>\n",
       "      <td>1</td>\n",
       "      <td>1</td>\n",
       "      <td>48.0</td>\n",
       "      <td>0</td>\n",
       "      <td>0</td>\n",
       "      <td>26.5500</td>\n",
       "      <td>1</td>\n",
       "      <td>1</td>\n",
       "      <td>0</td>\n",
       "      <td>1</td>\n",
       "    </tr>\n",
       "    <tr>\n",
       "      <th>875</th>\n",
       "      <td>1</td>\n",
       "      <td>3</td>\n",
       "      <td>15.0</td>\n",
       "      <td>0</td>\n",
       "      <td>0</td>\n",
       "      <td>7.2250</td>\n",
       "      <td>1</td>\n",
       "      <td>0</td>\n",
       "      <td>0</td>\n",
       "      <td>0</td>\n",
       "    </tr>\n",
       "    <tr>\n",
       "      <th>218</th>\n",
       "      <td>1</td>\n",
       "      <td>1</td>\n",
       "      <td>32.0</td>\n",
       "      <td>0</td>\n",
       "      <td>0</td>\n",
       "      <td>76.2917</td>\n",
       "      <td>1</td>\n",
       "      <td>0</td>\n",
       "      <td>0</td>\n",
       "      <td>0</td>\n",
       "    </tr>\n",
       "  </tbody>\n",
       "</table>\n",
       "</div>"
      ],
      "text/plain": [
       "     survived  pclass   age  sibsp  parch      fare  alone  sex_male  \\\n",
       "191         0       2  19.0      0      0   13.0000      1         1   \n",
       "565         0       3  24.0      2      0   24.1500      0         1   \n",
       "659         0       1  58.0      0      2  113.2750      0         1   \n",
       "492         0       1  55.0      0      0   30.5000      1         1   \n",
       "115         0       3  21.0      0      0    7.9250      1         1   \n",
       "479         1       3   2.0      0      1   12.2875      0         0   \n",
       "192         1       3  19.0      1      0    7.8542      0         0   \n",
       "460         1       1  48.0      0      0   26.5500      1         1   \n",
       "875         1       3  15.0      0      0    7.2250      1         0   \n",
       "218         1       1  32.0      0      0   76.2917      1         0   \n",
       "\n",
       "     embark_town_Queenstown  embark_town_Southampton  \n",
       "191                       0                        1  \n",
       "565                       0                        1  \n",
       "659                       0                        0  \n",
       "492                       0                        1  \n",
       "115                       0                        1  \n",
       "479                       0                        1  \n",
       "192                       0                        1  \n",
       "460                       0                        1  \n",
       "875                       0                        0  \n",
       "218                       0                        0  "
      ]
     },
     "execution_count": 1,
     "metadata": {},
     "output_type": "execute_result"
    }
   ],
   "source": [
    "# ignore warnings\n",
    "import warnings\n",
    "warnings.filterwarnings(\"ignore\")\n",
    "\n",
    "import pandas as pd\n",
    "import numpy as np\n",
    "\n",
    "%matplotlib inline\n",
    "import matplotlib.pyplot as plt\n",
    "import seaborn as sns\n",
    "\n",
    "from sklearn.model_selection import train_test_split\n",
    "from sklearn.neighbors import KNeighborsClassifier\n",
    "from sklearn.metrics import classification_report\n",
    "from sklearn.metrics import confusion_matrix\n",
    "\n",
    "from pydataset import data\n",
    "\n",
    "# read titanic data from acquire file data \n",
    "import acquire\n",
    "import env\n",
    "\n",
    "\n",
    "df  = acquire.get_titanic_data()\n",
    "train, validate, test = acquire.prep_titanic_data(df)\n",
    "train.sample(10)"
   ]
  },
  {
   "cell_type": "code",
   "execution_count": 2,
   "id": "04f13543",
   "metadata": {
    "scrolled": true
   },
   "outputs": [
    {
     "data": {
      "text/plain": [
       "((498, 10), (214, 10), (179, 10))"
      ]
     },
     "execution_count": 2,
     "metadata": {},
     "output_type": "execute_result"
    }
   ],
   "source": [
    "train.shape, validate.shape, test.shape"
   ]
  },
  {
   "cell_type": "code",
   "execution_count": 5,
   "id": "581b9a30",
   "metadata": {},
   "outputs": [],
   "source": [
    "x_cols = ['pclass', 'age', 'sex_male', 'fare']\n",
    "y_col = \"survived\"\n"
   ]
  },
  {
   "cell_type": "code",
   "execution_count": 12,
   "id": "67ba6b6b",
   "metadata": {},
   "outputs": [],
   "source": [
    "X_train, y_train = train[x_cols], train[y_col]\n",
    "X_validate, y_validate = validate[x_cols], validate[y_col]\n",
    "X_test, y_test = test[x_cols], test[y_col]"
   ]
  },
  {
   "cell_type": "code",
   "execution_count": 9,
   "id": "f985cce5",
   "metadata": {},
   "outputs": [
    {
     "data": {
      "text/html": [
       "<div>\n",
       "<style scoped>\n",
       "    .dataframe tbody tr th:only-of-type {\n",
       "        vertical-align: middle;\n",
       "    }\n",
       "\n",
       "    .dataframe tbody tr th {\n",
       "        vertical-align: top;\n",
       "    }\n",
       "\n",
       "    .dataframe thead th {\n",
       "        text-align: right;\n",
       "    }\n",
       "</style>\n",
       "<table border=\"1\" class=\"dataframe\">\n",
       "  <thead>\n",
       "    <tr style=\"text-align: right;\">\n",
       "      <th></th>\n",
       "      <th>pclass</th>\n",
       "      <th>age</th>\n",
       "      <th>sex_male</th>\n",
       "      <th>fare</th>\n",
       "    </tr>\n",
       "  </thead>\n",
       "  <tbody>\n",
       "    <tr>\n",
       "      <th>301</th>\n",
       "      <td>3</td>\n",
       "      <td>30.189296</td>\n",
       "      <td>1</td>\n",
       "      <td>23.2500</td>\n",
       "    </tr>\n",
       "    <tr>\n",
       "      <th>290</th>\n",
       "      <td>1</td>\n",
       "      <td>26.000000</td>\n",
       "      <td>0</td>\n",
       "      <td>78.8500</td>\n",
       "    </tr>\n",
       "    <tr>\n",
       "      <th>779</th>\n",
       "      <td>1</td>\n",
       "      <td>43.000000</td>\n",
       "      <td>0</td>\n",
       "      <td>211.3375</td>\n",
       "    </tr>\n",
       "    <tr>\n",
       "      <th>356</th>\n",
       "      <td>1</td>\n",
       "      <td>22.000000</td>\n",
       "      <td>0</td>\n",
       "      <td>55.0000</td>\n",
       "    </tr>\n",
       "    <tr>\n",
       "      <th>147</th>\n",
       "      <td>3</td>\n",
       "      <td>9.000000</td>\n",
       "      <td>0</td>\n",
       "      <td>34.3750</td>\n",
       "    </tr>\n",
       "  </tbody>\n",
       "</table>\n",
       "</div>"
      ],
      "text/plain": [
       "     pclass        age  sex_male      fare\n",
       "301       3  30.189296         1   23.2500\n",
       "290       1  26.000000         0   78.8500\n",
       "779       1  43.000000         0  211.3375\n",
       "356       1  22.000000         0   55.0000\n",
       "147       3   9.000000         0   34.3750"
      ]
     },
     "execution_count": 9,
     "metadata": {},
     "output_type": "execute_result"
    }
   ],
   "source": [
    "x_train.head()"
   ]
  },
  {
   "cell_type": "code",
   "execution_count": 14,
   "id": "aedf02fa",
   "metadata": {},
   "outputs": [],
   "source": [
    "knn1 = KNeighborsClassifier(1)\n",
    "knn1.fit(X_train, y_train)  \n",
    "# CLASSIFICATION METRICS\n",
    "y_pred = knn1.predict(X_train)\n"
   ]
  },
  {
   "cell_type": "code",
   "execution_count": 15,
   "id": "47ac50a3",
   "metadata": {},
   "outputs": [
    {
     "name": "stdout",
     "output_type": "stream",
     "text": [
      "              precision    recall  f1-score   support\n",
      "\n",
      "           0       1.00      0.98      0.99       307\n",
      "           1       0.96      0.99      0.98       191\n",
      "\n",
      "    accuracy                           0.98       498\n",
      "   macro avg       0.98      0.99      0.98       498\n",
      "weighted avg       0.98      0.98      0.98       498\n",
      "\n"
     ]
    }
   ],
   "source": [
    "# compare predictor and train set\n",
    "print(classification_report(y_train, y_pred))"
   ]
  },
  {
   "cell_type": "code",
   "execution_count": 16,
   "id": "fce473ce",
   "metadata": {
    "scrolled": false
   },
   "outputs": [
    {
     "name": "stdout",
     "output_type": "stream",
     "text": [
      "n_neighbour = 1\n"
     ]
    },
    {
     "data": {
      "text/html": [
       "<div>\n",
       "<style scoped>\n",
       "    .dataframe tbody tr th:only-of-type {\n",
       "        vertical-align: middle;\n",
       "    }\n",
       "\n",
       "    .dataframe tbody tr th {\n",
       "        vertical-align: top;\n",
       "    }\n",
       "\n",
       "    .dataframe thead th {\n",
       "        text-align: right;\n",
       "    }\n",
       "</style>\n",
       "<table border=\"1\" class=\"dataframe\">\n",
       "  <thead>\n",
       "    <tr style=\"text-align: right;\">\n",
       "      <th></th>\n",
       "      <th>0</th>\n",
       "      <th>1</th>\n",
       "      <th>accuracy</th>\n",
       "      <th>macro avg</th>\n",
       "      <th>weighted avg</th>\n",
       "    </tr>\n",
       "  </thead>\n",
       "  <tbody>\n",
       "    <tr>\n",
       "      <th>precision</th>\n",
       "      <td>0.996678</td>\n",
       "      <td>0.964467</td>\n",
       "      <td>0.983936</td>\n",
       "      <td>0.980572</td>\n",
       "      <td>0.984324</td>\n",
       "    </tr>\n",
       "    <tr>\n",
       "      <th>recall</th>\n",
       "      <td>0.977199</td>\n",
       "      <td>0.994764</td>\n",
       "      <td>0.983936</td>\n",
       "      <td>0.985982</td>\n",
       "      <td>0.983936</td>\n",
       "    </tr>\n",
       "    <tr>\n",
       "      <th>f1-score</th>\n",
       "      <td>0.986842</td>\n",
       "      <td>0.979381</td>\n",
       "      <td>0.983936</td>\n",
       "      <td>0.983112</td>\n",
       "      <td>0.983981</td>\n",
       "    </tr>\n",
       "    <tr>\n",
       "      <th>support</th>\n",
       "      <td>307.000000</td>\n",
       "      <td>191.000000</td>\n",
       "      <td>0.983936</td>\n",
       "      <td>498.000000</td>\n",
       "      <td>498.000000</td>\n",
       "    </tr>\n",
       "  </tbody>\n",
       "</table>\n",
       "</div>"
      ],
      "text/plain": [
       "                    0           1  accuracy   macro avg  weighted avg\n",
       "precision    0.996678    0.964467  0.983936    0.980572      0.984324\n",
       "recall       0.977199    0.994764  0.983936    0.985982      0.983936\n",
       "f1-score     0.986842    0.979381  0.983936    0.983112      0.983981\n",
       "support    307.000000  191.000000  0.983936  498.000000    498.000000"
      ]
     },
     "execution_count": 16,
     "metadata": {},
     "output_type": "execute_result"
    }
   ],
   "source": [
    "report = classification_report(y_train, y_pred, output_dict=True)\n",
    "print(\"n_neighbour = 1\")\n",
    "pd.DataFrame(report)\n"
   ]
  },
  {
   "cell_type": "code",
   "execution_count": 17,
   "id": "5407499f",
   "metadata": {},
   "outputs": [
    {
     "data": {
      "text/plain": [
       "array([[300,   7],\n",
       "       [  1, 190]])"
      ]
     },
     "execution_count": 17,
     "metadata": {},
     "output_type": "execute_result"
    }
   ],
   "source": [
    "confusion_matrix(y_train, y_pred)\n"
   ]
  },
  {
   "cell_type": "code",
   "execution_count": 18,
   "id": "9b84bd02",
   "metadata": {},
   "outputs": [
    {
     "name": "stdout",
     "output_type": "stream",
     "text": [
      "Actual on Left, Predicted on Top\n"
     ]
    },
    {
     "data": {
      "text/html": [
       "<div>\n",
       "<style scoped>\n",
       "    .dataframe tbody tr th:only-of-type {\n",
       "        vertical-align: middle;\n",
       "    }\n",
       "\n",
       "    .dataframe tbody tr th {\n",
       "        vertical-align: top;\n",
       "    }\n",
       "\n",
       "    .dataframe thead th {\n",
       "        text-align: right;\n",
       "    }\n",
       "</style>\n",
       "<table border=\"1\" class=\"dataframe\">\n",
       "  <thead>\n",
       "    <tr style=\"text-align: right;\">\n",
       "      <th>col_0</th>\n",
       "      <th>0</th>\n",
       "      <th>1</th>\n",
       "    </tr>\n",
       "    <tr>\n",
       "      <th>survived</th>\n",
       "      <th></th>\n",
       "      <th></th>\n",
       "    </tr>\n",
       "  </thead>\n",
       "  <tbody>\n",
       "    <tr>\n",
       "      <th>0</th>\n",
       "      <td>300</td>\n",
       "      <td>7</td>\n",
       "    </tr>\n",
       "    <tr>\n",
       "      <th>1</th>\n",
       "      <td>1</td>\n",
       "      <td>190</td>\n",
       "    </tr>\n",
       "  </tbody>\n",
       "</table>\n",
       "</div>"
      ],
      "text/plain": [
       "col_0       0    1\n",
       "survived          \n",
       "0         300    7\n",
       "1           1  190"
      ]
     },
     "execution_count": 18,
     "metadata": {},
     "output_type": "execute_result"
    }
   ],
   "source": [
    "print('Actual on Left, Predicted on Top')\n",
    "pd.crosstab(y_train, y_pred)\n"
   ]
  },
  {
   "cell_type": "code",
   "execution_count": 19,
   "id": "6dfe110e",
   "metadata": {},
   "outputs": [
    {
     "data": {
      "text/plain": [
       "(300, 7, 1, 190)"
      ]
     },
     "execution_count": 19,
     "metadata": {},
     "output_type": "execute_result"
    }
   ],
   "source": [
    "# Lets be nicer and say that the \"positive\" outcome is survival = 1\n",
    "TN, FP, FN, TP = confusion_matrix(y_train,y_pred).ravel()\n",
    "ALL = TP + TN + FP + FN\n",
    "\n",
    "TN, FP, FN, TP"
   ]
  },
  {
   "cell_type": "code",
   "execution_count": 21,
   "id": "470fe5b8",
   "metadata": {},
   "outputs": [],
   "source": [
    "def show_scores(TN, FP, FN, TP):\n",
    "    \n",
    "    ALL = TP + TN + FP + FN\n",
    "    \n",
    "    accuracy = (TP + TN)/ALL # How often did the model get it right?\n",
    "    precision = TP/(TP+FP) # What is the quality of a positive prediction made by the model?\n",
    "    recall = TP/(TP+FN) # How many of the true positives were found?   \n",
    "    \n",
    "    true_positive_rate = TP/(TP+FN) # Same as recall, actually\n",
    "    true_negative_rate = TN/(TN+FP) # How many of the true negatives were found?\n",
    "    false_positive_rate = FP/(FP+TN) # How often did we miss the negative and accidentally call it positive?\n",
    "    false_negative_rate = FN/(FN+TP) # How often did we miss the positive and accidentally call it negative?\n",
    "    \n",
    "    f1_score = 2*(precision*recall)/(precision+recall) # Harmonic mean, good for imbalanced data sets\n",
    "    support_pos = TP + FN # Number of actual positives in the sample\n",
    "    support_neg = FP + TN # Number of actual negatives in the sample\n",
    "    \n",
    "    print(f\"Accuracy: {accuracy}\")\n",
    "    print(f\"Precision: {precision}\")\n",
    "    print(f\"Recall: {recall}\")\n",
    "    print(f\"True Positive Rate: {true_positive_rate}\")\n",
    "    print(f\"True Negative Rate: {true_negative_rate}\")\n",
    "    print(f\"False Positive Rate: {false_positive_rate}\")\n",
    "    print(f\"False Negative Rate: {false_negative_rate}\")\n",
    "    print(f\"F1 Score: {f1_score}\")\n",
    "    print(f\"Support (0): {support_pos}\")\n",
    "    print(f\"Support (1): {support_neg}\")"
   ]
  },
  {
   "cell_type": "code",
   "execution_count": 23,
   "id": "2600cb62",
   "metadata": {},
   "outputs": [
    {
     "name": "stdout",
     "output_type": "stream",
     "text": [
      "Accuracy: 0.9839357429718876\n",
      "Precision: 0.9644670050761421\n",
      "Recall: 0.9947643979057592\n",
      "True Positive Rate: 0.9947643979057592\n",
      "True Negative Rate: 0.9771986970684039\n",
      "False Positive Rate: 0.02280130293159609\n",
      "False Negative Rate: 0.005235602094240838\n",
      "F1 Score: 0.9793814432989691\n",
      "Support (0): 191\n",
      "Support (1): 307\n"
     ]
    }
   ],
   "source": [
    "show_scores(TN,  FP, FN, TP)"
   ]
  },
  {
   "cell_type": "markdown",
   "id": "26d0a38c",
   "metadata": {},
   "source": [
    "for 10 neighbors"
   ]
  },
  {
   "cell_type": "code",
   "execution_count": 25,
   "id": "c848a268",
   "metadata": {},
   "outputs": [
    {
     "name": "stdout",
     "output_type": "stream",
     "text": [
      "n_neighbour = 10\n"
     ]
    },
    {
     "data": {
      "text/html": [
       "<div>\n",
       "<style scoped>\n",
       "    .dataframe tbody tr th:only-of-type {\n",
       "        vertical-align: middle;\n",
       "    }\n",
       "\n",
       "    .dataframe tbody tr th {\n",
       "        vertical-align: top;\n",
       "    }\n",
       "\n",
       "    .dataframe thead th {\n",
       "        text-align: right;\n",
       "    }\n",
       "</style>\n",
       "<table border=\"1\" class=\"dataframe\">\n",
       "  <thead>\n",
       "    <tr style=\"text-align: right;\">\n",
       "      <th></th>\n",
       "      <th>0</th>\n",
       "      <th>1</th>\n",
       "      <th>accuracy</th>\n",
       "      <th>macro avg</th>\n",
       "      <th>weighted avg</th>\n",
       "    </tr>\n",
       "  </thead>\n",
       "  <tbody>\n",
       "    <tr>\n",
       "      <th>precision</th>\n",
       "      <td>0.736986</td>\n",
       "      <td>0.714286</td>\n",
       "      <td>0.730924</td>\n",
       "      <td>0.725636</td>\n",
       "      <td>0.728280</td>\n",
       "    </tr>\n",
       "    <tr>\n",
       "      <th>recall</th>\n",
       "      <td>0.876221</td>\n",
       "      <td>0.497382</td>\n",
       "      <td>0.730924</td>\n",
       "      <td>0.686802</td>\n",
       "      <td>0.730924</td>\n",
       "    </tr>\n",
       "    <tr>\n",
       "      <th>f1-score</th>\n",
       "      <td>0.800595</td>\n",
       "      <td>0.586420</td>\n",
       "      <td>0.730924</td>\n",
       "      <td>0.693507</td>\n",
       "      <td>0.718452</td>\n",
       "    </tr>\n",
       "    <tr>\n",
       "      <th>support</th>\n",
       "      <td>307.000000</td>\n",
       "      <td>191.000000</td>\n",
       "      <td>0.730924</td>\n",
       "      <td>498.000000</td>\n",
       "      <td>498.000000</td>\n",
       "    </tr>\n",
       "  </tbody>\n",
       "</table>\n",
       "</div>"
      ],
      "text/plain": [
       "                    0           1  accuracy   macro avg  weighted avg\n",
       "precision    0.736986    0.714286  0.730924    0.725636      0.728280\n",
       "recall       0.876221    0.497382  0.730924    0.686802      0.730924\n",
       "f1-score     0.800595    0.586420  0.730924    0.693507      0.718452\n",
       "support    307.000000  191.000000  0.730924  498.000000    498.000000"
      ]
     },
     "execution_count": 25,
     "metadata": {},
     "output_type": "execute_result"
    }
   ],
   "source": [
    "knn10 = KNeighborsClassifier(10)\n",
    "knn10.fit(X_train, y_train)  \n",
    "# CLASSIFICATION METRICS\n",
    "y_pred = knn10.predict(X_train)\n",
    "\n",
    "report = classification_report(y_train, y_pred, output_dict=True)\n",
    "print(\"n_neighbour = 10\")\n",
    "pd.DataFrame(report)"
   ]
  },
  {
   "cell_type": "code",
   "execution_count": 26,
   "id": "0704fb53",
   "metadata": {
    "scrolled": true
   },
   "outputs": [
    {
     "name": "stdout",
     "output_type": "stream",
     "text": [
      "Actual on Left, Predicted on Top\n"
     ]
    },
    {
     "data": {
      "text/html": [
       "<div>\n",
       "<style scoped>\n",
       "    .dataframe tbody tr th:only-of-type {\n",
       "        vertical-align: middle;\n",
       "    }\n",
       "\n",
       "    .dataframe tbody tr th {\n",
       "        vertical-align: top;\n",
       "    }\n",
       "\n",
       "    .dataframe thead th {\n",
       "        text-align: right;\n",
       "    }\n",
       "</style>\n",
       "<table border=\"1\" class=\"dataframe\">\n",
       "  <thead>\n",
       "    <tr style=\"text-align: right;\">\n",
       "      <th>col_0</th>\n",
       "      <th>0</th>\n",
       "      <th>1</th>\n",
       "    </tr>\n",
       "    <tr>\n",
       "      <th>survived</th>\n",
       "      <th></th>\n",
       "      <th></th>\n",
       "    </tr>\n",
       "  </thead>\n",
       "  <tbody>\n",
       "    <tr>\n",
       "      <th>0</th>\n",
       "      <td>269</td>\n",
       "      <td>38</td>\n",
       "    </tr>\n",
       "    <tr>\n",
       "      <th>1</th>\n",
       "      <td>96</td>\n",
       "      <td>95</td>\n",
       "    </tr>\n",
       "  </tbody>\n",
       "</table>\n",
       "</div>"
      ],
      "text/plain": [
       "col_0       0   1\n",
       "survived         \n",
       "0         269  38\n",
       "1          96  95"
      ]
     },
     "execution_count": 26,
     "metadata": {},
     "output_type": "execute_result"
    }
   ],
   "source": [
    "\n",
    "# confusion_matrix\n",
    "print('Actual on Left, Predicted on Top')\n",
    "pd.crosstab(y_train, y_pred)"
   ]
  },
  {
   "cell_type": "markdown",
   "id": "b45d2a09",
   "metadata": {},
   "source": [
    "knn classifier with n_neighbor = 20\n"
   ]
  },
  {
   "cell_type": "code",
   "execution_count": 28,
   "id": "cfbaa3b0",
   "metadata": {},
   "outputs": [
    {
     "name": "stdout",
     "output_type": "stream",
     "text": [
      "n_neighbour = 20\n"
     ]
    },
    {
     "data": {
      "text/html": [
       "<div>\n",
       "<style scoped>\n",
       "    .dataframe tbody tr th:only-of-type {\n",
       "        vertical-align: middle;\n",
       "    }\n",
       "\n",
       "    .dataframe tbody tr th {\n",
       "        vertical-align: top;\n",
       "    }\n",
       "\n",
       "    .dataframe thead th {\n",
       "        text-align: right;\n",
       "    }\n",
       "</style>\n",
       "<table border=\"1\" class=\"dataframe\">\n",
       "  <thead>\n",
       "    <tr style=\"text-align: right;\">\n",
       "      <th></th>\n",
       "      <th>0</th>\n",
       "      <th>1</th>\n",
       "      <th>accuracy</th>\n",
       "      <th>macro avg</th>\n",
       "      <th>weighted avg</th>\n",
       "    </tr>\n",
       "  </thead>\n",
       "  <tbody>\n",
       "    <tr>\n",
       "      <th>precision</th>\n",
       "      <td>0.713528</td>\n",
       "      <td>0.685950</td>\n",
       "      <td>0.706827</td>\n",
       "      <td>0.699739</td>\n",
       "      <td>0.702951</td>\n",
       "    </tr>\n",
       "    <tr>\n",
       "      <th>recall</th>\n",
       "      <td>0.876221</td>\n",
       "      <td>0.434555</td>\n",
       "      <td>0.706827</td>\n",
       "      <td>0.655388</td>\n",
       "      <td>0.706827</td>\n",
       "    </tr>\n",
       "    <tr>\n",
       "      <th>f1-score</th>\n",
       "      <td>0.786550</td>\n",
       "      <td>0.532051</td>\n",
       "      <td>0.706827</td>\n",
       "      <td>0.659300</td>\n",
       "      <td>0.688941</td>\n",
       "    </tr>\n",
       "    <tr>\n",
       "      <th>support</th>\n",
       "      <td>307.000000</td>\n",
       "      <td>191.000000</td>\n",
       "      <td>0.706827</td>\n",
       "      <td>498.000000</td>\n",
       "      <td>498.000000</td>\n",
       "    </tr>\n",
       "  </tbody>\n",
       "</table>\n",
       "</div>"
      ],
      "text/plain": [
       "                    0           1  accuracy   macro avg  weighted avg\n",
       "precision    0.713528    0.685950  0.706827    0.699739      0.702951\n",
       "recall       0.876221    0.434555  0.706827    0.655388      0.706827\n",
       "f1-score     0.786550    0.532051  0.706827    0.659300      0.688941\n",
       "support    307.000000  191.000000  0.706827  498.000000    498.000000"
      ]
     },
     "execution_count": 28,
     "metadata": {},
     "output_type": "execute_result"
    }
   ],
   "source": [
    "\n",
    "knn20 = KNeighborsClassifier(20)\n",
    "knn20.fit(X_train, y_train)\n",
    "y_pred = knn20.predict(X_train)\n",
    "\n",
    "report = classification_report(y_train, y_pred, output_dict=True)\n",
    "print(\"n_neighbour = 20\")\n",
    "pd.DataFrame(report)"
   ]
  },
  {
   "cell_type": "code",
   "execution_count": 29,
   "id": "799b277c",
   "metadata": {},
   "outputs": [
    {
     "name": "stdout",
     "output_type": "stream",
     "text": [
      "Actual on Left, Predicted on Top\n"
     ]
    },
    {
     "data": {
      "text/html": [
       "<div>\n",
       "<style scoped>\n",
       "    .dataframe tbody tr th:only-of-type {\n",
       "        vertical-align: middle;\n",
       "    }\n",
       "\n",
       "    .dataframe tbody tr th {\n",
       "        vertical-align: top;\n",
       "    }\n",
       "\n",
       "    .dataframe thead th {\n",
       "        text-align: right;\n",
       "    }\n",
       "</style>\n",
       "<table border=\"1\" class=\"dataframe\">\n",
       "  <thead>\n",
       "    <tr style=\"text-align: right;\">\n",
       "      <th>col_0</th>\n",
       "      <th>0</th>\n",
       "      <th>1</th>\n",
       "    </tr>\n",
       "    <tr>\n",
       "      <th>survived</th>\n",
       "      <th></th>\n",
       "      <th></th>\n",
       "    </tr>\n",
       "  </thead>\n",
       "  <tbody>\n",
       "    <tr>\n",
       "      <th>0</th>\n",
       "      <td>269</td>\n",
       "      <td>38</td>\n",
       "    </tr>\n",
       "    <tr>\n",
       "      <th>1</th>\n",
       "      <td>108</td>\n",
       "      <td>83</td>\n",
       "    </tr>\n",
       "  </tbody>\n",
       "</table>\n",
       "</div>"
      ],
      "text/plain": [
       "col_0       0   1\n",
       "survived         \n",
       "0         269  38\n",
       "1         108  83"
      ]
     },
     "execution_count": 29,
     "metadata": {},
     "output_type": "execute_result"
    }
   ],
   "source": [
    "print('Actual on Left, Predicted on Top')\n",
    "pd.crosstab(y_train, y_pred)"
   ]
  },
  {
   "cell_type": "markdown",
   "id": "4b9fe6ec",
   "metadata": {},
   "source": [
    "What are the differences in the evaluation metrics? Which performs better on your in-sample data? Why?"
   ]
  },
  {
   "cell_type": "code",
   "execution_count": null,
   "id": "98a54466",
   "metadata": {},
   "outputs": [],
   "source": [
    "# it seems like when there is only one neighbour the accuracy is at its highest because the model only fitted to one neighbor"
   ]
  },
  {
   "cell_type": "code",
   "execution_count": null,
   "id": "3a4fe6b5",
   "metadata": {},
   "outputs": [],
   "source": []
  }
 ],
 "metadata": {
  "kernelspec": {
   "display_name": "Python 3 (ipykernel)",
   "language": "python",
   "name": "python3"
  },
  "language_info": {
   "codemirror_mode": {
    "name": "ipython",
    "version": 3
   },
   "file_extension": ".py",
   "mimetype": "text/x-python",
   "name": "python",
   "nbconvert_exporter": "python",
   "pygments_lexer": "ipython3",
   "version": "3.9.7"
  }
 },
 "nbformat": 4,
 "nbformat_minor": 5
}
